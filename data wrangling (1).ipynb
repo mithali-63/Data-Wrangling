{
 "cells": [
  {
   "cell_type": "code",
   "execution_count": 6,
   "id": "3100c8b9-1fba-49c7-aca8-2e97342ddef1",
   "metadata": {},
   "outputs": [
    {
     "name": "stdout",
     "output_type": "stream",
     "text": [
      "  name  age\n",
      "0  sai   20\n",
      "1  sub   21\n",
      "2  poo   22\n",
      "   qualified\n",
      "0       True\n",
      "1       True\n",
      "2      False\n"
     ]
    }
   ],
   "source": [
    "import pandas as pd\n",
    "d1={\"name\":[\"sai\",\"sub\",\"poo\"],\"age\":[20,21,22]}\n",
    "d2={\"qualified\":[True,True,False]}\n",
    "df1=pd.DataFrame(d1)\n",
    "print(df1)\n",
    "df2=pd.DataFrame(d2)\n",
    "print(df2)\n",
    "newdf=df1.join(df2)"
   ]
  },
  {
   "cell_type": "code",
   "execution_count": 7,
   "id": "c2ad50eb-7d0f-4162-bf8e-f719517b6897",
   "metadata": {},
   "outputs": [
    {
     "name": "stdout",
     "output_type": "stream",
     "text": [
      "  name  age  qualified\n",
      "0  sai   20       True\n",
      "1  sub   21       True\n",
      "2  poo   22      False\n"
     ]
    }
   ],
   "source": [
    "print(newdf)"
   ]
  },
  {
   "cell_type": "code",
   "execution_count": 13,
   "id": "bc92a29b-eeb3-4406-987a-6ae7eb5b9330",
   "metadata": {},
   "outputs": [
    {
     "name": "stdout",
     "output_type": "stream",
     "text": [
      "    name age\n",
      "0    sai  20\n",
      "1  rishi  21\n",
      "2  thara  22\n",
      "     name age\n",
      "0    yuvi  20\n",
      "1   rithi  21\n",
      "2  sanjay  22\n",
      "   name_x age name_y\n",
      "0    yuvi  20    sai\n",
      "1   rithi  21  rishi\n",
      "2  sanjay  22  thara\n",
      "  name_x age  name_y\n",
      "0    sai  20    yuvi\n",
      "1  rishi  21   rithi\n",
      "2  thara  22  sanjay\n"
     ]
    }
   ],
   "source": [
    "d1={\"name\":[\"sai\",\"rishi\",\"thara\"],\"age\":[\"20\",\"21\",\"22\"]}\n",
    "d2={\"name\":[\"yuvi\",\"rithi\",\"sanjay\"],\"age\":[\"20\",\"21\",\"22\"]}\n",
    "df1=pd.DataFrame(d1)\n",
    "print(df1)\n",
    "df2=pd.DataFrame(d2)\n",
    "print(df2)\n",
    "newdf1=(df2.merge(df1,on=\"age\"))\n",
    "newdf2=(df1.merge(df2,on=\"age\"))\n",
    "print(newdf1)\n",
    "print(newdf2)"
   ]
  },
  {
   "cell_type": "code",
   "execution_count": null,
   "id": "f8fe35d2-5669-40b2-8fed-00d1a7a410e1",
   "metadata": {},
   "outputs": [],
   "source": []
  }
 ],
 "metadata": {
  "kernelspec": {
   "display_name": "Python 3 (ipykernel)",
   "language": "python",
   "name": "python3"
  },
  "language_info": {
   "codemirror_mode": {
    "name": "ipython",
    "version": 3
   },
   "file_extension": ".py",
   "mimetype": "text/x-python",
   "name": "python",
   "nbconvert_exporter": "python",
   "pygments_lexer": "ipython3",
   "version": "3.12.7"
  }
 },
 "nbformat": 4,
 "nbformat_minor": 5
}
